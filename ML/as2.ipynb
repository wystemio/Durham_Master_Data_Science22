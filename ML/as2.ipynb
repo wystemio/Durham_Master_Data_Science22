{
 "cells": [
  {
   "cell_type": "code",
   "execution_count": 1,
   "metadata": {
    "collapsed": true
   },
   "outputs": [],
   "source": [
    "import pandas as pd\n",
    "\n",
    "import warnings\n",
    "warnings.filterwarnings('ignore')"
   ]
  },
  {
   "cell_type": "code",
   "execution_count": 2,
   "outputs": [
    {
     "data": {
      "text/plain": "    age  anaemia  creatinine_phosphokinase  diabetes  ejection_fraction  \\\n0  75.0        0                       582         0                 20   \n1  55.0        0                      7861         0                 38   \n2  65.0        0                       146         0                 20   \n3  50.0        1                       111         0                 20   \n4  65.0        1                       160         1                 20   \n\n   high_blood_pressure  platelets  serum_creatinine  serum_sodium  sex  \\\n0                    1  265000.00               1.9           130    1   \n1                    0  263358.03               1.1           136    1   \n2                    0  162000.00               1.3           129    1   \n3                    0  210000.00               1.9           137    1   \n4                    0  327000.00               2.7           116    0   \n\n   smoking  time  DEATH_EVENT  \n0        0     4            1  \n1        0     6            1  \n2        1     7            1  \n3        0     7            1  \n4        0     8            1  ",
      "text/html": "<div>\n<style scoped>\n    .dataframe tbody tr th:only-of-type {\n        vertical-align: middle;\n    }\n\n    .dataframe tbody tr th {\n        vertical-align: top;\n    }\n\n    .dataframe thead th {\n        text-align: right;\n    }\n</style>\n<table border=\"1\" class=\"dataframe\">\n  <thead>\n    <tr style=\"text-align: right;\">\n      <th></th>\n      <th>age</th>\n      <th>anaemia</th>\n      <th>creatinine_phosphokinase</th>\n      <th>diabetes</th>\n      <th>ejection_fraction</th>\n      <th>high_blood_pressure</th>\n      <th>platelets</th>\n      <th>serum_creatinine</th>\n      <th>serum_sodium</th>\n      <th>sex</th>\n      <th>smoking</th>\n      <th>time</th>\n      <th>DEATH_EVENT</th>\n    </tr>\n  </thead>\n  <tbody>\n    <tr>\n      <th>0</th>\n      <td>75.0</td>\n      <td>0</td>\n      <td>582</td>\n      <td>0</td>\n      <td>20</td>\n      <td>1</td>\n      <td>265000.00</td>\n      <td>1.9</td>\n      <td>130</td>\n      <td>1</td>\n      <td>0</td>\n      <td>4</td>\n      <td>1</td>\n    </tr>\n    <tr>\n      <th>1</th>\n      <td>55.0</td>\n      <td>0</td>\n      <td>7861</td>\n      <td>0</td>\n      <td>38</td>\n      <td>0</td>\n      <td>263358.03</td>\n      <td>1.1</td>\n      <td>136</td>\n      <td>1</td>\n      <td>0</td>\n      <td>6</td>\n      <td>1</td>\n    </tr>\n    <tr>\n      <th>2</th>\n      <td>65.0</td>\n      <td>0</td>\n      <td>146</td>\n      <td>0</td>\n      <td>20</td>\n      <td>0</td>\n      <td>162000.00</td>\n      <td>1.3</td>\n      <td>129</td>\n      <td>1</td>\n      <td>1</td>\n      <td>7</td>\n      <td>1</td>\n    </tr>\n    <tr>\n      <th>3</th>\n      <td>50.0</td>\n      <td>1</td>\n      <td>111</td>\n      <td>0</td>\n      <td>20</td>\n      <td>0</td>\n      <td>210000.00</td>\n      <td>1.9</td>\n      <td>137</td>\n      <td>1</td>\n      <td>0</td>\n      <td>7</td>\n      <td>1</td>\n    </tr>\n    <tr>\n      <th>4</th>\n      <td>65.0</td>\n      <td>1</td>\n      <td>160</td>\n      <td>1</td>\n      <td>20</td>\n      <td>0</td>\n      <td>327000.00</td>\n      <td>2.7</td>\n      <td>116</td>\n      <td>0</td>\n      <td>0</td>\n      <td>8</td>\n      <td>1</td>\n    </tr>\n  </tbody>\n</table>\n</div>"
     },
     "execution_count": 2,
     "metadata": {},
     "output_type": "execute_result"
    }
   ],
   "source": [
    "df = pd.read_csv('heart_failure_clinical_records_dataset.csv')\n",
    "df.head()"
   ],
   "metadata": {
    "collapsed": false
   }
  },
  {
   "cell_type": "code",
   "execution_count": 4,
   "outputs": [
    {
     "data": {
      "text/plain": "                          count           mean           std      min  \\\nage                       299.0      60.833893     11.894809     40.0   \nanaemia                   299.0       0.431438      0.496107      0.0   \ncreatinine_phosphokinase  299.0     581.839465    970.287881     23.0   \ndiabetes                  299.0       0.418060      0.494067      0.0   \nejection_fraction         299.0      38.083612     11.834841     14.0   \nhigh_blood_pressure       299.0       0.351171      0.478136      0.0   \nplatelets                 299.0  263358.029264  97804.236869  25100.0   \nserum_creatinine          299.0       1.393880      1.034510      0.5   \nserum_sodium              299.0     136.625418      4.412477    113.0   \nsex                       299.0       0.648829      0.478136      0.0   \nsmoking                   299.0       0.321070      0.467670      0.0   \ntime                      299.0     130.260870     77.614208      4.0   \nDEATH_EVENT               299.0       0.321070      0.467670      0.0   \n\n                               25%       50%       75%       max  \nage                           51.0      60.0      70.0      95.0  \nanaemia                        0.0       0.0       1.0       1.0  \ncreatinine_phosphokinase     116.5     250.0     582.0    7861.0  \ndiabetes                       0.0       0.0       1.0       1.0  \nejection_fraction             30.0      38.0      45.0      80.0  \nhigh_blood_pressure            0.0       0.0       1.0       1.0  \nplatelets                 212500.0  262000.0  303500.0  850000.0  \nserum_creatinine               0.9       1.1       1.4       9.4  \nserum_sodium                 134.0     137.0     140.0     148.0  \nsex                            0.0       1.0       1.0       1.0  \nsmoking                        0.0       0.0       1.0       1.0  \ntime                          73.0     115.0     203.0     285.0  \nDEATH_EVENT                    0.0       0.0       1.0       1.0  ",
      "text/html": "<div>\n<style scoped>\n    .dataframe tbody tr th:only-of-type {\n        vertical-align: middle;\n    }\n\n    .dataframe tbody tr th {\n        vertical-align: top;\n    }\n\n    .dataframe thead th {\n        text-align: right;\n    }\n</style>\n<table border=\"1\" class=\"dataframe\">\n  <thead>\n    <tr style=\"text-align: right;\">\n      <th></th>\n      <th>count</th>\n      <th>mean</th>\n      <th>std</th>\n      <th>min</th>\n      <th>25%</th>\n      <th>50%</th>\n      <th>75%</th>\n      <th>max</th>\n    </tr>\n  </thead>\n  <tbody>\n    <tr>\n      <th>age</th>\n      <td>299.0</td>\n      <td>60.833893</td>\n      <td>11.894809</td>\n      <td>40.0</td>\n      <td>51.0</td>\n      <td>60.0</td>\n      <td>70.0</td>\n      <td>95.0</td>\n    </tr>\n    <tr>\n      <th>anaemia</th>\n      <td>299.0</td>\n      <td>0.431438</td>\n      <td>0.496107</td>\n      <td>0.0</td>\n      <td>0.0</td>\n      <td>0.0</td>\n      <td>1.0</td>\n      <td>1.0</td>\n    </tr>\n    <tr>\n      <th>creatinine_phosphokinase</th>\n      <td>299.0</td>\n      <td>581.839465</td>\n      <td>970.287881</td>\n      <td>23.0</td>\n      <td>116.5</td>\n      <td>250.0</td>\n      <td>582.0</td>\n      <td>7861.0</td>\n    </tr>\n    <tr>\n      <th>diabetes</th>\n      <td>299.0</td>\n      <td>0.418060</td>\n      <td>0.494067</td>\n      <td>0.0</td>\n      <td>0.0</td>\n      <td>0.0</td>\n      <td>1.0</td>\n      <td>1.0</td>\n    </tr>\n    <tr>\n      <th>ejection_fraction</th>\n      <td>299.0</td>\n      <td>38.083612</td>\n      <td>11.834841</td>\n      <td>14.0</td>\n      <td>30.0</td>\n      <td>38.0</td>\n      <td>45.0</td>\n      <td>80.0</td>\n    </tr>\n    <tr>\n      <th>high_blood_pressure</th>\n      <td>299.0</td>\n      <td>0.351171</td>\n      <td>0.478136</td>\n      <td>0.0</td>\n      <td>0.0</td>\n      <td>0.0</td>\n      <td>1.0</td>\n      <td>1.0</td>\n    </tr>\n    <tr>\n      <th>platelets</th>\n      <td>299.0</td>\n      <td>263358.029264</td>\n      <td>97804.236869</td>\n      <td>25100.0</td>\n      <td>212500.0</td>\n      <td>262000.0</td>\n      <td>303500.0</td>\n      <td>850000.0</td>\n    </tr>\n    <tr>\n      <th>serum_creatinine</th>\n      <td>299.0</td>\n      <td>1.393880</td>\n      <td>1.034510</td>\n      <td>0.5</td>\n      <td>0.9</td>\n      <td>1.1</td>\n      <td>1.4</td>\n      <td>9.4</td>\n    </tr>\n    <tr>\n      <th>serum_sodium</th>\n      <td>299.0</td>\n      <td>136.625418</td>\n      <td>4.412477</td>\n      <td>113.0</td>\n      <td>134.0</td>\n      <td>137.0</td>\n      <td>140.0</td>\n      <td>148.0</td>\n    </tr>\n    <tr>\n      <th>sex</th>\n      <td>299.0</td>\n      <td>0.648829</td>\n      <td>0.478136</td>\n      <td>0.0</td>\n      <td>0.0</td>\n      <td>1.0</td>\n      <td>1.0</td>\n      <td>1.0</td>\n    </tr>\n    <tr>\n      <th>smoking</th>\n      <td>299.0</td>\n      <td>0.321070</td>\n      <td>0.467670</td>\n      <td>0.0</td>\n      <td>0.0</td>\n      <td>0.0</td>\n      <td>1.0</td>\n      <td>1.0</td>\n    </tr>\n    <tr>\n      <th>time</th>\n      <td>299.0</td>\n      <td>130.260870</td>\n      <td>77.614208</td>\n      <td>4.0</td>\n      <td>73.0</td>\n      <td>115.0</td>\n      <td>203.0</td>\n      <td>285.0</td>\n    </tr>\n    <tr>\n      <th>DEATH_EVENT</th>\n      <td>299.0</td>\n      <td>0.321070</td>\n      <td>0.467670</td>\n      <td>0.0</td>\n      <td>0.0</td>\n      <td>0.0</td>\n      <td>1.0</td>\n      <td>1.0</td>\n    </tr>\n  </tbody>\n</table>\n</div>"
     },
     "execution_count": 4,
     "metadata": {},
     "output_type": "execute_result"
    }
   ],
   "source": [
    "df.describe().T\n"
   ],
   "metadata": {
    "collapsed": false
   }
  },
  {
   "cell_type": "code",
   "execution_count": null,
   "outputs": [],
   "source": [],
   "metadata": {
    "collapsed": false
   }
  }
 ],
 "metadata": {
  "kernelspec": {
   "display_name": "Python 3",
   "language": "python",
   "name": "python3"
  },
  "language_info": {
   "codemirror_mode": {
    "name": "ipython",
    "version": 2
   },
   "file_extension": ".py",
   "mimetype": "text/x-python",
   "name": "python",
   "nbconvert_exporter": "python",
   "pygments_lexer": "ipython2",
   "version": "2.7.6"
  }
 },
 "nbformat": 4,
 "nbformat_minor": 0
}
